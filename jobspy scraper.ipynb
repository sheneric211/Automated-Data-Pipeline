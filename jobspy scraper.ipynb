{
 "cells": [
  {
   "cell_type": "code",
   "execution_count": 2,
   "metadata": {},
   "outputs": [],
   "source": [
    "import csv\n",
    "from jobspy import scrape_jobs  "
   ]
  },
  {
   "cell_type": "code",
   "execution_count": 3,
   "metadata": {},
   "outputs": [],
   "source": [
    "# !pip install python-jobspy"
   ]
  },
  {
   "cell_type": "code",
   "execution_count": 6,
   "metadata": {},
   "outputs": [
    {
     "name": "stdout",
     "output_type": "stream",
     "text": [
      "Found 252 jobs\n",
      "                                               job_url           site  \\\n",
      "117  https://www.ziprecruiter.com/jobs//j?lvk=SZg3-...  zip_recruiter   \n",
      "139  https://www.ziprecruiter.com/jobs//j?lvk=ka7va...  zip_recruiter   \n",
      "109  https://www.ziprecruiter.com/jobs//j?lvk=K3hDF...  zip_recruiter   \n",
      "118  https://www.ziprecruiter.com/jobs//j?lvk=GtAGM...  zip_recruiter   \n",
      "149  https://www.ziprecruiter.com/jobs//j?lvk=AuJ-R...  zip_recruiter   \n",
      "\n",
      "                                    title                      company  \\\n",
      "117          Operations Reporting Analyst    San Francisco Health Plan   \n",
      "139              Senior Financial Analyst  Heffernan Insurance Brokers   \n",
      "109                    Operations Analyst                   Two Chairs   \n",
      "118          Operations Reporting Analyst               SF Health Plan   \n",
      "149  Occupational Health & Safety Analyst                          Aon   \n",
      "\n",
      "    company_url                location job_type date_posted interval  \\\n",
      "117        None  San Francisco, CA, USA     None  2024-03-02   yearly   \n",
      "139        None   Walnut Creek, CA, USA     None  2024-03-02   yearly   \n",
      "109        None  San Francisco, CA, USA     None  2024-03-02     None   \n",
      "118        None  San Francisco, CA, USA     None  2024-03-02   yearly   \n",
      "149        None  San Francisco, CA, USA     None  2024-03-02     None   \n",
      "\n",
      "     min_amount  max_amount currency is_remote num_urgent_words benefits  \\\n",
      "117     83786.0     94259.0      USD      None                0     None   \n",
      "139    100000.0    125000.0      USD      None                0     None   \n",
      "109         NaN         NaN     None      None                0     None   \n",
      "118     83786.0     94259.0      USD      None                0     None   \n",
      "149         NaN         NaN     None      None                0     None   \n",
      "\n",
      "    emails                                        description  \n",
      "117   None  The Operations Reporting Analyst plays a criti...  \n",
      "139   None  The Senior Financial \\nAnalyst\\n plays a criti...  \n",
      "109   None  At Two Chairs, we're building a world where ev...  \n",
      "118   None  You will integrate \\ndata\\n from a variety of ...  \n",
      "149   None  Looking for a qualified an Occupational Health...  \n"
     ]
    },
    {
     "name": "stderr",
     "output_type": "stream",
     "text": [
      "/opt/homebrew/anaconda3/envs/first/lib/python3.11/site-packages/jobspy/__init__.py:171: FutureWarning: The behavior of DataFrame concatenation with empty or all-NA entries is deprecated. In a future version, this will no longer exclude empty or all-NA columns when determining the result dtypes. To retain the old behavior, exclude the relevant entries before the concat operation.\n",
      "  jobs_df = pd.concat(jobs_dfs, ignore_index=True)\n"
     ]
    }
   ],
   "source": [
    "jobs = scrape_jobs(\n",
    "    site_name=[\"indeed\", \"linkedin\", \"zip_recruiter\", \"glassdoor\"],\n",
    "    search_term=\"data analyst\",\n",
    "    location=\"San Francisco, CA\",\n",
    "    results_wanted=100,\n",
    "    hours_old=200, # (only linkedin is hour specific, others round up to days old)\n",
    "    country_indeed='USA',  # only needed for indeed / glassdoor\n",
    "    full_description = True\n",
    ")\n",
    "print(f\"Found {len(jobs)} jobs\")\n",
    "print(jobs.head())\n",
    "jobs.to_csv(\"jobs.csv\", quoting=csv.QUOTE_NONNUMERIC, escapechar=\"\\\\\", index=False) # to_xlsx"
   ]
  },
  {
   "cell_type": "code",
   "execution_count": null,
   "metadata": {},
   "outputs": [],
   "source": []
  }
 ],
 "metadata": {
  "kernelspec": {
   "display_name": "first",
   "language": "python",
   "name": "python3"
  },
  "language_info": {
   "codemirror_mode": {
    "name": "ipython",
    "version": 3
   },
   "file_extension": ".py",
   "mimetype": "text/x-python",
   "name": "python",
   "nbconvert_exporter": "python",
   "pygments_lexer": "ipython3",
   "version": "3.11.0"
  }
 },
 "nbformat": 4,
 "nbformat_minor": 2
}
